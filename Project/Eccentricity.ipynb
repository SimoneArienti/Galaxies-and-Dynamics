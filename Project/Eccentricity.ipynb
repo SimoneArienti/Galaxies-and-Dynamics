{
 "cells": [
  {
   "cell_type": "code",
   "execution_count": 1,
   "id": "5ec4df02-a64d-4e25-bb87-df4434c9305e",
   "metadata": {},
   "outputs": [],
   "source": [
    "import pandas as pd\n",
    "import numpy as np\n",
    "import matplotlib.pyplot as plt\n",
    "from IPython.display import display, Markdown\n",
    "from tqdm import tqdm\n",
    "import seaborn as sns\n",
    "\n",
    "import math\n",
    "from mpl_toolkits.mplot3d import Axes3D\n",
    "from matplotlib import animation\n",
    "import pandas as pd\n",
    "from scipy.optimize import fsolve\n",
    "\n",
    "N = 20001\n",
    "\n",
    "#fname = f'Jaffe_{N-1}_eps_0.01_out_perturber_Mp_0.03.txt'\n",
    "fname = f'Jaffe_{N-1}_eps_0.01_out_perturber.txt'"
   ]
  },
  {
   "cell_type": "code",
   "execution_count": 2,
   "id": "e7bd1bd9-d39f-42c9-b966-50115bfb809d",
   "metadata": {},
   "outputs": [],
   "source": [
    "G = 1 \n",
    "\n",
    "# Masse\n",
    "M   = 1 \n",
    "M_p = M / 10\n",
    "m   = M / N\n",
    "\n",
    "# Raggi\n",
    "Rs   = 1 \n",
    "\n",
    "# Rho0\n",
    "rho_0 = M / (4 * np.pi * (Rs)**3)"
   ]
  },
  {
   "cell_type": "code",
   "execution_count": 3,
   "id": "65da2f68-8e29-4602-b8f1-dd6643e5d3ad",
   "metadata": {},
   "outputs": [],
   "source": [
    "data = pd.read_csv(fname, names=list(range(7)), sep = ' ')\n",
    "datas = np.array(data)"
   ]
  },
  {
   "cell_type": "code",
   "execution_count": 4,
   "id": "810e8b38-becf-438d-90d2-997bdba6d1ac",
   "metadata": {},
   "outputs": [],
   "source": [
    "def dati (data,N,M_tot,M_p):\n",
    "\n",
    "    x = []\n",
    "    y = []\n",
    "    z = []\n",
    "    \n",
    "    v_x = []\n",
    "    v_y = []\n",
    "    v_z = []\n",
    "    \n",
    "    start = N + 3\n",
    "    step  = N * 3 + 3\n",
    "    \n",
    "    a = (np.array([data.iloc[i::step,:].copy() for i in range(start,start+N)]))\n",
    "    for j in range(len(a)):\n",
    "        temp = np.array([a[j][i][~np.isnan(a[j][i])] for i in range(len(a[j]))])\n",
    "        \n",
    "        x.append(temp[:,0])\n",
    "        y.append(temp[:,1])\n",
    "        z.append(temp[:,2])\n",
    "        \n",
    "    x = np.array(x)\n",
    "    y = np.array(y)\n",
    "    z = np.array(z)\n",
    "    \n",
    "    \n",
    "    b = (np.array([data.iloc[i::step,:].copy() for i in range(start+N,start+(N)*2)]))\n",
    "    \n",
    "    for j in range(len(b)):\n",
    "        temp = np.array([b[j][i][~np.isnan(b[j][i])] for i in range(len(b[j]))])\n",
    "        \n",
    "        v_x.append(temp[:,0])\n",
    "        v_y.append(temp[:,1])\n",
    "        v_z.append(temp[:,2])\n",
    "     \n",
    "\n",
    "    v_x = np.array(v_x)\n",
    "    v_y = np.array(v_y)\n",
    "    v_z = np.array(v_z)\n",
    "    \n",
    "    #cm\n",
    "    cm_x = []\n",
    "    cm_y = []\n",
    "    cm_z = []\n",
    "    \n",
    "    # Centro di Massa del sistema di 20000 particelle uso mean e median\n",
    "    cm_x.append(np.median(x[1:], axis=0))\n",
    "    cm_y.append(np.median(y[1:], axis=0))\n",
    "    cm_z.append(np.median(z[1:], axis=0))\n",
    "\n",
    "    cm_x = np.array(cm_x[0])\n",
    "    cm_y = np.array(cm_y[0])\n",
    "    cm_z = np.array(cm_z[0])\n",
    "\n",
    "    print('The initial center of mass is (', cm_x[0],', ', cm_y[0],', ', cm_z[0], ')')  \n",
    "    print('The final center of mass is (', cm_x[-1],', ', cm_y[-1],', ', cm_z[-1], ')')\n",
    "            \n",
    "    cm_v_x = []\n",
    "    cm_v_y = []\n",
    "    cm_v_z = []        \n",
    "        \n",
    "    # Velocità del centro di massa Jaffe\n",
    "    cm_v_x.append(np.median(v_x[1:], axis=0))\n",
    "    cm_v_y.append(np.median(v_y[1:], axis=0))\n",
    "    cm_v_z.append(np.median(v_z[1:], axis=0))\n",
    "\n",
    "    cm_v_x = np.array(cm_v_x[0])\n",
    "    cm_v_y = np.array(cm_v_y[0])\n",
    "    cm_v_z = np.array(cm_v_z[0])\n",
    "        \n",
    "    \n",
    "    r    = np.array([(x[i]**2+y[i]**2+z[i]**2)**0.5 for i in range(N)])\n",
    "    cm_r = np.array([(cm_x[i]**2+cm_y[i]**2+cm_z[i]**2)**0.5 for i in range(len(cm_x))])\n",
    "    \n",
    "    \n",
    "    t = (np.array(data.iloc[2::step,:].copy()))[:,2]\n",
    "    \n",
    "    return x,y,z,cm_x, cm_y, cm_z,v_x,v_y,v_z,cm_v_x,cm_v_y,cm_v_z,r,cm_r,t"
   ]
  },
  {
   "cell_type": "code",
   "execution_count": 5,
   "id": "623e520d-176b-4bd0-9275-b669df2dc49e",
   "metadata": {},
   "outputs": [
    {
     "name": "stdout",
     "output_type": "stream",
     "text": [
      "The initial center of mass is ( -0.00087059336 ,  0.000648987425 ,  -0.00029512617 )\n",
      "The final center of mass is ( 0.13879572 ,  1.66226775 ,  0.0521084725 )\n"
     ]
    }
   ],
   "source": [
    "x,y,z,cm_x,cm_y,cm_z,v_x,v_y,v_z,cm_vx,cm_vy,cm_vz,r,r_cm,time = dati(data, N, M, M_p)"
   ]
  },
  {
   "cell_type": "code",
   "execution_count": 6,
   "id": "54b48c81-656c-4582-9ba5-9964ec58bf57",
   "metadata": {},
   "outputs": [],
   "source": [
    "x      = x[:, :200]\n",
    "y      = y[:, :200]\n",
    "z      = z[:, :200]\n",
    "cm_x   = cm_x[:200]\n",
    "cm_y   = cm_y[:200]\n",
    "cm_z   = cm_z[:200]\n",
    "v_x    = v_x[:, :200]\n",
    "v_y    = v_y[:, :200]\n",
    "v_z    = v_z[:, :200]\n",
    "cm_vx  = cm_vx[:200]\n",
    "cm_vy  = cm_vy[:200]\n",
    "cm_vz  = cm_vz[:200]\n",
    "r      = r[:, :200]\n",
    "r_cm   = r_cm[:200]\n",
    "time   = time[:200]"
   ]
  },
  {
   "cell_type": "code",
   "execution_count": 7,
   "id": "129facb4-c5df-47e9-86fe-d55f9be3ba8c",
   "metadata": {},
   "outputs": [],
   "source": [
    "perturber_position = np.matrix(np.empty((len(time), 3)))\n",
    "perturber_velocity = np.matrix(np.empty((len(time), 3)))\n",
    "\n",
    "for i in range(len(time)):\n",
    "    # Posizioni sono in kpc\n",
    "    perturber_position[i, 0] = x[0][i] - cm_x[i]\n",
    "    perturber_position[i, 1] = y[0][i] - cm_y[i]\n",
    "    perturber_position[i, 2] = z[0][i] - cm_z[i]\n",
    "\n",
    "    #Velocità sono in cm/s\n",
    "    perturber_velocity[i, 0] = v_x[0][i] - cm_vx[i]\n",
    "    perturber_velocity[i, 1] = v_y[0][i] - cm_vy[i]\n",
    "    perturber_velocity[i, 2] = v_z[0][i] - cm_vz[i]"
   ]
  },
  {
   "cell_type": "code",
   "execution_count": 8,
   "id": "e55b927d-2336-4301-b6e5-8b87a5321c55",
   "metadata": {},
   "outputs": [],
   "source": [
    "distance = np.sqrt((cm_x - x[0])**2 + (cm_y - y[0])**2 + (cm_z - z[0])**2)"
   ]
  },
  {
   "cell_type": "markdown",
   "id": "78f8e89b-2682-4c39-8e4d-7c7945c410b4",
   "metadata": {},
   "source": [
    "### Apo e peri"
   ]
  },
  {
   "cell_type": "code",
   "execution_count": 9,
   "id": "befbcd01-58ec-4608-b4bb-6632fb6dcc36",
   "metadata": {},
   "outputs": [],
   "source": [
    "def Jaffe_pot(radii, Rs, M, G):\n",
    "    return ((M * G) / Rs) * np.log(radii/(radii+Rs)) \n",
    "\n",
    "def V_cent(radii, position, velocity, Rs, M_p, G):\n",
    "    mp_v = M_p * velocity                                               \n",
    "    L0 = np.cross(position, mp_v)                                        \n",
    "    L02 = np.linalg.norm(L0)**2\n",
    "\n",
    "    return L02/(2 * M_p * radii**2)\n",
    "\n",
    "def Phi_eff(radii, position, velocity, Rs, M, M_p, G):\n",
    "    return Jaffe_pot(radii, Rs, M, G) + V_cent(radii, position, velocity, Rs, M_p, G)"
   ]
  },
  {
   "cell_type": "code",
   "execution_count": 10,
   "id": "2d22a3b1-512e-42dd-a564-62b190c2f027",
   "metadata": {},
   "outputs": [],
   "source": [
    "velocities = np.sqrt(v_x**2 + v_y**2 + v_z**2)"
   ]
  },
  {
   "cell_type": "code",
   "execution_count": 11,
   "id": "96c89168-d94b-486a-8224-bb638e98ca4d",
   "metadata": {},
   "outputs": [
    {
     "name": "stderr",
     "output_type": "stream",
     "text": [
      "100%|█████████████████████████████████████████| 200/200 [00:03<00:00, 61.19it/s]\n"
     ]
    }
   ],
   "source": [
    "eccentricita_2 = np.zeros(len(time))\n",
    "ecc_rays       = np.linspace(1e-8, 10, 100000)\n",
    "r_peri = np.zeros(len(time))\n",
    "r_apo = np.zeros(len(time))\n",
    "\n",
    "for i in tqdm(range(0, len(time))):\n",
    "    E_p = (1/2) * M_p * velocities[0][i]**2 + Jaffe_pot(distance[i], Rs, M, G)\n",
    "    equation = Phi_eff(ecc_rays,perturber_position[i].A[0], perturber_velocity[i].A[0],Rs, M, M_p, G) - E_p\n",
    "    solutions = []\n",
    "    for j in range(1, len(equation)):\n",
    "        if equation[j-1]*equation[j] < 0:\n",
    "            solutions.append((ecc_rays[j-1]+ecc_rays[j])/2)\n",
    "    \n",
    "    r_peri[i] = np.min(solutions)\n",
    "    r_apo[i] =  np.max(solutions)\n",
    "\n",
    "    eccentricita_2[i] = (r_apo[i] - r_peri[i])/(r_apo[i] + r_peri[i])\n",
    "    "
   ]
  },
  {
   "cell_type": "code",
   "execution_count": 12,
   "id": "16093988-c58a-47d1-9056-f3be73a3865e",
   "metadata": {},
   "outputs": [
    {
     "data": {
      "image/png": "[encoded data removed]",
      "text/plain": [
       "<Figure size 640x480 with 1 Axes>"
      ]
     },
     "metadata": {},
     "output_type": "display_data"
    }
   ],
   "source": [
    "sns.set(style='whitegrid')\n",
    "plt.plot(time[1:], eccentricita_2[1:])\n",
    "plt.xlabel('time [IU]')\n",
    "plt.ylabel('e')\n",
    "plt.title(r'Eccentricity Evolution ($m_p = M/10$)')\n",
    "plt.savefig('Results/Eccentricity M10.png')"
   ]
  },
  {
   "cell_type": "code",
   "execution_count": 13,
   "id": "f323599e-6c2f-412f-9d23-f46ec5a3f484",
   "metadata": {},
   "outputs": [
    {
     "data": {
      "text/plain": [
       "(173, 0.01304824133375762)"
      ]
     },
     "execution_count": 13,
     "metadata": {},
     "output_type": "execute_result"
    },
    {
     "data": {
      "image/png": "[encoded data removed]",
      "text/plain": [
       "<Figure size 640x480 with 1 Axes>"
      ]
     },
     "metadata": {},
     "output_type": "display_data"
    }
   ],
   "source": [
    "plt.plot(time, distance)\n",
    "np.argmin(distance), np.min(distance)"
   ]
  },
  {
   "cell_type": "code",
   "execution_count": 14,
   "id": "3d579e73-1427-4b44-939d-a6a0ce852917",
   "metadata": {},
   "outputs": [
    {
     "name": "stdout",
     "output_type": "stream",
     "text": [
      "0.749985418245667\n",
      "0.7495920658556575\n",
      "0.7510061154739155\n",
      "0.7516038638563356\n",
      "0.7521850512506988\n",
      "0.7527075724618604\n",
      "0.7535514583891021\n",
      "0.7549105233443727\n",
      "0.7557976837689065\n",
      "0.7578174953961462\n",
      "0.7598718606888263\n",
      "0.7614716254275086\n",
      "0.7631179948331347\n",
      "0.7665421780075328\n",
      "0.769190378334313\n",
      "0.7719974219420832\n",
      "0.774591112446456\n",
      "0.7769284539978913\n",
      "0.7796738406561904\n",
      "0.7821453437906183\n",
      "0.784517845940328\n",
      "0.7870273323208906\n",
      "0.7884202495978144\n",
      "0.7912806763400559\n",
      "0.7936553704651862\n",
      "0.7957454076359108\n",
      "0.798767129867967\n",
      "0.8014041456937776\n",
      "0.8033398278052128\n",
      "0.8060914775739002\n",
      "0.8085519829812623\n",
      "0.8113110447151907\n",
      "0.8137903408944657\n",
      "0.8158074335290854\n",
      "0.8178353998995938\n",
      "0.8214813038569455\n",
      "0.8234259691047335\n",
      "0.8264341035571002\n",
      "0.827995245687319\n",
      "0.8300907818182768\n",
      "0.8322540589870406\n",
      "0.8343364928353697\n",
      "0.8359594728649284\n",
      "0.8370224625054596\n",
      "0.8387513966395612\n",
      "0.8402273528029833\n",
      "0.8426833294730776\n",
      "0.8439296489243466\n",
      "0.845577032806353\n",
      "0.8464704460254625\n",
      "0.8483034963214021\n",
      "0.8499971612064884\n",
      "0.8502919239240019\n",
      "0.8514587257185809\n",
      "0.8525484305637829\n",
      "0.854215280307318\n",
      "0.8548635152446867\n",
      "0.85474763781307\n",
      "0.8551279025226205\n",
      "0.8560059446238705\n",
      "0.8568393148405794\n",
      "0.8571346210166295\n",
      "0.8573407902854082\n",
      "0.8575070886307178\n",
      "0.8578322961062482\n",
      "0.8578024446780378\n",
      "0.8581331039402629\n",
      "0.8581966144436678\n",
      "0.8587124259567188\n",
      "0.8581411915167529\n",
      "0.857486315351593\n",
      "0.8568320437925488\n",
      "0.8561426901724811\n",
      "0.8552881271935872\n",
      "0.8543850887581528\n",
      "0.8543297197872881\n",
      "0.8537089094998387\n",
      "0.8532162156804286\n",
      "0.8530968826549932\n",
      "0.8522829472376281\n",
      "0.850787875614041\n",
      "0.8502649198631986\n",
      "0.8491575705431241\n",
      "0.8483998015849359\n",
      "0.8486198171207218\n",
      "0.8464849238713335\n",
      "0.8445950502166594\n",
      "0.8438398310941535\n",
      "0.8421314621211861\n",
      "0.8412801496709762\n",
      "0.8401026269780906\n",
      "0.8387888582237691\n",
      "0.8376638006566861\n",
      "0.8368684791845721\n",
      "0.8349956673998694\n",
      "0.835313941941455\n",
      "0.8337153948959054\n",
      "0.8321637287860417\n",
      "0.8298797504925137\n",
      "0.8266596732678809\n",
      "0.8247725909619342\n",
      "0.8225439165522044\n",
      "0.8198306981709144\n",
      "0.8177068335195468\n",
      "0.815580116112302\n",
      "0.812462714918414\n",
      "0.8098383817495624\n",
      "0.8089059412726208\n",
      "0.8061809514406778\n",
      "0.8036296282629517\n",
      "0.8010908103053695\n",
      "0.7982016663283933\n",
      "0.7952746556036615\n",
      "0.7917062549501346\n",
      "0.790207228452325\n",
      "0.7883669260118288\n",
      "0.7871781857742985\n",
      "0.7860400104881644\n",
      "0.7846645166860916\n",
      "0.783543631636987\n",
      "0.7853070540217879\n",
      "0.7864216631114466\n",
      "0.7883563222623488\n",
      "0.7896313458480279\n",
      "0.7920651126374465\n",
      "0.7969353387348089\n",
      "0.7999999794742275\n",
      "0.8039240462755509\n",
      "0.8100139583172994\n",
      "0.8140506123027222\n",
      "0.8194584812892133\n",
      "0.823796871951784\n",
      "0.828777503701108\n",
      "0.8333121535278958\n",
      "0.836706100631342\n",
      "0.840516668614701\n",
      "0.8436250910502344\n",
      "0.8465635742092994\n",
      "0.8494213348392204\n",
      "0.8546596910107996\n",
      "0.8546764313575886\n",
      "0.8557372268367884\n",
      "0.8555634059374954\n",
      "0.8554374477965092\n",
      "0.8548653675783782\n",
      "0.8533041445619244\n",
      "0.851652797536418\n",
      "0.8489698331700547\n",
      "0.8442695925527927\n",
      "0.8399622680507495\n",
      "0.8352261073832334\n",
      "0.8295840055358357\n",
      "0.8241182787663237\n",
      "0.8202438624275287\n",
      "0.8154211346494332\n",
      "0.8170028347553507\n",
      "0.8216500730991405\n",
      "0.8236832958014355\n",
      "0.8306966791862421\n",
      "0.8406744087635236\n",
      "0.845853944305777\n",
      "0.8517829976393402\n",
      "0.8556981053528161\n",
      "0.8566321797757257\n",
      "0.858655734529764\n",
      "0.8639895626959478\n",
      "0.8724927533444098\n",
      "0.8806365113392355\n",
      "0.890369365189526\n",
      "0.898473145272647\n",
      "0.9231535083544357\n",
      "0.9593982077026721\n",
      "0.9641015752903227\n",
      "0.9624045678271507\n",
      "0.9750687118786914\n",
      "0.987653833262243\n",
      "0.9923659071979721\n",
      "0.9871460220379682\n",
      "0.9911498577345442\n",
      "0.9964278597015025\n",
      "0.9964150563404349\n",
      "0.9959831357645165\n",
      "0.995797482531491\n",
      "0.9948176219609587\n",
      "0.9936696282788701\n",
      "0.9935471051133283\n",
      "0.9951681206201256\n",
      "0.9958497959835364\n",
      "0.990353060872567\n",
      "0.98746817671263\n",
      "0.992041914041382\n",
      "0.99630922782342\n",
      "0.9962679132403346\n",
      "0.9955348254242221\n",
      "0.9959669387443708\n",
      "0.9966660022293089\n",
      "0.9965510368682259\n",
      "0.9964278597015025\n",
      "0.9965149850139227\n",
      "0.9953261726016631\n"
     ]
    }
   ],
   "source": [
    "for i in range(len(eccentricita_2)):\n",
    "    print( eccentricita_2[i])"
   ]
  },
  {
   "cell_type": "code",
   "execution_count": null,
   "id": "d80d1704-8ba0-40b6-b239-2a133b41be67",
   "metadata": {},
   "outputs": [],
   "source": []
  },
  {
   "cell_type": "code",
   "execution_count": 15,
   "id": "3a0a6c80-60c7-41fc-b4db-60bb9d5e95e8",
   "metadata": {},
   "outputs": [
    {
     "data": {
      "text/plain": [
       "<matplotlib.lines.Line2D at 0x77fb57dd5410>"
      ]
     },
     "execution_count": 15,
     "metadata": {},
     "output_type": "execute_result"
    },
    {
     "data": {
      "image/png": "[encoded data removed]",
      "text/plain": [
       "<Figure size 640x480 with 1 Axes>"
      ]
     },
     "metadata": {},
     "output_type": "display_data"
    }
   ],
   "source": [
    "i = 173\n",
    "plt.plot(ecc_rays, Phi_eff(ecc_rays, perturber_position[i].A[0], perturber_velocity[i].A[0],Rs, M,  M_p, G))\n",
    "#plt.axvline(x = r_apo[i], color='green')\n",
    "#plt.axvline(x = r_peri[i], color='green')\n",
    "plt.ylim(-8, 2)\n",
    "#plt.xlim(-0.001, 1)\n",
    "plt.axhline(y = 0.5 * M_p * velocities[0][i]**2 + Jaffe_pot(distance[i], Rs, M, G), color='red')"
   ]
  },
  {
   "cell_type": "code",
   "execution_count": null,
   "id": "31758476-55d4-449c-8977-70d46e32875a",
   "metadata": {},
   "outputs": [],
   "source": []
  },
  {
   "cell_type": "code",
   "execution_count": null,
   "id": "0d8ef46c-7705-4ea1-8475-1a55d197bd3a",
   "metadata": {},
   "outputs": [],
   "source": []
  },
  {
   "cell_type": "code",
   "execution_count": null,
   "id": "a01c44f2-4faa-492d-b04d-9bb9a29e2158",
   "metadata": {},
   "outputs": [],
   "source": []
  }
 ],
 "metadata": {
  "kernelspec": {
   "display_name": "Python 3 (ipykernel)",
   "language": "python",
   "name": "python3"
  },
  "language_info": {
   "codemirror_mode": {
    "name": "ipython",
    "version": 3
   },
   "file_extension": ".py",
   "mimetype": "text/x-python",
   "name": "python",
   "nbconvert_exporter": "python",
   "pygments_lexer": "ipython3",
   "version": "3.11.7"
  }
 },
 "nbformat": 4,
 "nbformat_minor": 5
}
